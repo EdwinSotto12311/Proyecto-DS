{
 "cells": [
  {
   "cell_type": "markdown",
   "metadata": {},
   "source": [
    "<center>\n",
    "    <img src=\"https://cf-courses-data.s3.us.cloud-object-storage.appdomain.cloud/IBMDeveloperSkillsNetwork-DS0105EN-SkillsNetwork/labs/Module2/images/SN_web_lightmode.png\" width=\"300\" alt=\"cognitiveclass.ai logo\">\n",
    "</center>\n"
   ]
  },
  {
   "cell_type": "markdown",
   "metadata": {},
   "source": [
    "#### Add your code below following the instructions given in the course\n"
   ]
  },
  {
   "cell_type": "markdown",
   "metadata": {},
   "source": [
    "\n",
    "# Proyecto Data Science"
   ]
  },
  {
   "cell_type": "markdown",
   "metadata": {},
   "source": [
    "### En esta sección, proporcionaremos una breve introducción a los fundamentos de la ciencia de datos, tanto como herramientas, conceptos y demás."
   ]
  },
  {
   "cell_type": "markdown",
   "metadata": {
    "tags": []
   },
   "source": [
    "## Los lenguajes de ciencia de datos comunes incluyen\n",
    "* Python\n",
    "* R\n",
    "* Julia\n",
    "* Scala\n",
    "* SQL"
   ]
  },
  {
   "cell_type": "markdown",
   "metadata": {
    "tags": []
   },
   "source": [
    "## Librerias importantes\n",
    "* NumPy\n",
    "* Pandas\n",
    "* Matplotlib\n",
    "* Seaborn\n",
    "* Scikit-learn\n",
    "* TensorFlow\n",
    "* PyTorch"
   ]
  },
  {
   "cell_type": "markdown",
   "metadata": {},
   "source": [
    "## Tabla de Herramientas de Ciencia de Datos"
   ]
  },
  {
   "cell_type": "markdown",
   "metadata": {
    "tags": []
   },
   "source": [
    "| Categoría                   | Herramienta/Tecnología                       | Pagina                        |\n",
    "|-----------------------------|----------------------------------------------|------------------------------------------|\n",
    "| Entorno de codificación     | Jupyter Notebooks                            | [Colab](https://colab.research.google.com/) |\n",
    "| Biblioteca de aprendizaje profundo | TensorFlow                               | [TensorFlow Hub](https://tfhub.dev/)       |\n",
    "| Biblioteca de visualización  | Matplotlib                                   | [Seaborn](https://seaborn.pydata.org/)    |\n",
    "| Manipulación de datos        | Pandas                                       | [Pandas](https://pandas.pydata.org/)     |\n",
    "| Aprendizaje automático       | Scikit-learn                                 | [Scikit-learn](https://scikit-learn.org/)|\n",
    "| Redes neuronales             | PyTorch                                      | [PyTorch](https://pytorch.org/)          |"
   ]
  },
  {
   "cell_type": "markdown",
   "metadata": {},
   "source": [
    "## Expresiones aritmeticas simples\n",
    "\n",
    "\n",
    "### Suma\n",
    "\n",
    "La suma está denotada por el símbolo `+` . \n",
    "\n",
    "#### Por ejemplo:\n",
    "\n",
    "* result = 5 + 3\n",
    "* print(result)  # Salida: 8\n",
    "\n",
    "### Resta\n",
    "\n",
    "La resta está denotada por el símbolo `-`.\n",
    "\n",
    "#### Por ejemplo:\n",
    "\n",
    "* result = 8 - 3\n",
    "* print(result)  # Salida: 5\n",
    "\n",
    "En este caso, se resta 3 de 8, y el resultado se imprime, resultando en 5.\n",
    "\n",
    "### Multiplicación\n",
    "\n",
    "La multiplicación está denotada por el símbolo `*`.\n",
    "\n",
    "#### Por ejemplo:\n",
    "\n",
    "* result = 4 * 6\n",
    "* print(result)  # Salida: 24\n",
    "\n",
    "Aquí, 4 se multiplica por 6, y el resultado es 24.\n",
    "\n",
    "### División\n",
    "\n",
    "La división está denotada por el símbolo `/`.\n",
    "\n",
    "#### Por ejemplo:\n",
    "\n",
    "* result = 15 / 3\n",
    "* print(result)  # Salida: 5.0\n",
    "\n",
    "En este caso, 15 se divide por 3, y el resultado es 5.0. La división de números enteros produce un resultado de tipo flotante en Python.\n",
    "\n",
    "### Potenciación\n",
    "\n",
    "La potenciación está denotada por el símbolo `**`.\n",
    "\n",
    "#### Por ejemplo:\n",
    "\n",
    "* result = 2 ** 4\n",
    "* print(result)  # Salida: 16\n",
    "\n",
    "En este ejemplo, 2 se eleva a la cuarta potencia, dando como resultado 16.\n",
    "\n",
    "### Módulo (Resto de la División)\n",
    "\n",
    "El módulo, o el resto de la división, está denotado por el símbolo `%`.\n",
    "\n",
    "#### Por ejemplo:\n",
    "\n",
    "* result = 17 % 5\n",
    "* print(result)  # Salida: 2\n",
    "\n",
    "Aquí, 17 se divide por 5, y el resultado es 2, que es el resto de la división."
   ]
  },
  {
   "cell_type": "code",
   "execution_count": 2,
   "metadata": {
    "tags": []
   },
   "outputs": [
    {
     "name": "stdout",
     "output_type": "stream",
     "text": [
      "Multiplicación: 40\n",
      "Suma: 13\n"
     ]
    }
   ],
   "source": [
    "num1 = 5\n",
    "num2 = 8\n",
    "\n",
    "multiplicacion = num1 * num2\n",
    "suma = num1 + num2\n",
    "\n",
    "print(f\"Multiplicación: {multiplicacion}\")\n",
    "print(f\"Suma: {suma}\")"
   ]
  },
  {
   "cell_type": "code",
   "execution_count": 3,
   "metadata": {
    "tags": []
   },
   "outputs": [
    {
     "name": "stdout",
     "output_type": "stream",
     "text": [
      "120 minutos son equivalentes a 2.0 horas\n"
     ]
    }
   ],
   "source": [
    "minutos = 120\n",
    "horas = minutos / 60\n",
    "\n",
    "print(f\"{minutos} minutos son equivalentes a {horas} horas\")\n"
   ]
  },
  {
   "cell_type": "markdown",
   "metadata": {},
   "source": [
    "## Objetivos del Cuaderno:\n",
    "* Explorar conceptos fundamentales de ciencia de datos.\n",
    "* Familiarizarse con lenguajes y bibliotecas comunes.\n",
    "* Practicar expresiones aritméticas y conversiones de unidades.\n"
   ]
  },
  {
   "cell_type": "markdown",
   "metadata": {},
   "source": [
    "# AUTOR"
   ]
  },
  {
   "cell_type": "code",
   "execution_count": null,
   "metadata": {},
   "outputs": [],
   "source": [
    "# [EDWIN SOTO]"
   ]
  }
 ],
 "metadata": {
  "kernelspec": {
   "display_name": "Python",
   "language": "python",
   "name": "conda-env-python-py"
  },
  "language_info": {
   "codemirror_mode": {
    "name": "ipython",
    "version": 3
   },
   "file_extension": ".py",
   "mimetype": "text/x-python",
   "name": "python",
   "nbconvert_exporter": "python",
   "pygments_lexer": "ipython3",
   "version": "3.7.12"
  }
 },
 "nbformat": 4,
 "nbformat_minor": 4
}
